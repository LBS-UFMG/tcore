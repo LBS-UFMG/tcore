{
 "cells": [
  {
   "cell_type": "markdown",
   "id": "fc23d1ea-f9dc-4bd5-9cf1-19e6cd48c5da",
   "metadata": {
    "jp-MarkdownHeadingCollapsed": true
   },
   "source": [
    "# Documentação "
   ]
  },
  {
   "cell_type": "markdown",
   "id": "9d227f3c-3935-43cd-a169-8ee8723719d3",
   "metadata": {},
   "source": [
    "**Application of Machine Learning Algorithms for Predicting Core Temperature at the End of a 10km Run**\n",
    "\n",
    "* This project is dedicated to the application of machine learning models to predict internal temperature at the conclusion of a self-paced 10km run.\n",
    "\n",
    "* The dataset utilized in this study originates from the article by [Andrade et al. (2023)](https://pmc.ncbi.nlm.nih.gov/articles/PMC10988464/), with the raw data made available by the authors at [https://doi.org/10.6084/m9.figshare.21508239](https://doi.org/10.6084/m9.figshare.21508239).\n",
    "\n",
    "* Prior to modeling, the original dataset underwent a pre-processing stage that included the removal of variables not used in the models, the modification of variable data structures to more suitable formats, the elimination of invalid characters, and the replacement of commas with periods for numerical standardization. Details of these transformations are documented in the **pre-processing.ipynb** notebook, located at **https://github.com/leprogramar/projeto1-doc/blob/main/pre-processamento.ipynb**. From the pre-processed data, three distinct datasets were generated, each configured to replicate the variable models proposed by the original authors: Dataset 1 (10 variables), Dataset 2 (8 variables), and Dataset 3 (5 variables).\n",
    "\n",
    "* The primary objective of this work is to evaluate the performance and optimization of the **Decision Tree, Random Forest, XGBoost, and LASSO Regression** algorithms on the three datasets.\n",
    "\n",
    "* In the code below, specifically, the modeling of the four machine learning algorithms was performed on **Dataset 1**.\n",
    "\n",
    "* **Predictor Variables** - WBGT, Running speed, Initial core, Body mass, Tcore-Tskin, Tskin mean, Sweat rate, VO2max, HR, ΔBM%\n",
    "\n",
    "* **Predicted Variable** - EndTcore"
   ]
  },
  {
   "cell_type": "markdown",
   "id": "b485f663-e36b-40a6-b65a-5dd9d371d23e",
   "metadata": {},
   "source": [
    "# Import library python"
   ]
  },
  {
   "cell_type": "markdown",
   "id": "343f7227-83e6-4c39-a801-eeeacd732689",
   "metadata": {
    "jp-MarkdownHeadingCollapsed": true
   },
   "source": [
    "## Standard"
   ]
  },
  {
   "cell_type": "code",
   "execution_count": 17,
   "id": "ee41d2d7-adf6-4740-8bc3-d9d758f271f7",
   "metadata": {},
   "outputs": [],
   "source": [
    "import pandas as pd #data manipulation \n",
    "import numpy as np #data manipulation \n",
    "import seaborn as sns #building graphic\n",
    "import matplotlib.pyplot as plt #building graphic\n",
    "from sklearn.metrics import mean_squared_error, r2_score #algoritms metrics\n",
    "from sklearn.model_selection import train_test_split, GridSearchCV #sample and hyperparameters manipulation"
   ]
  },
  {
   "cell_type": "markdown",
   "id": "87de24bb-610f-4f76-b446-dc9ed8a69e0a",
   "metadata": {
    "jp-MarkdownHeadingCollapsed": true
   },
   "source": [
    "## Decision tree"
   ]
  },
  {
   "cell_type": "code",
   "execution_count": 18,
   "id": "af972934-88b3-429e-a4d9-fbc153d9dcc8",
   "metadata": {},
   "outputs": [],
   "source": [
    "from sklearn.tree import DecisionTreeRegressor, plot_tree #decision tree model and tree graphic"
   ]
  },
  {
   "cell_type": "markdown",
   "id": "f604accf-d30e-459b-bf4f-f37db38637b1",
   "metadata": {
    "jp-MarkdownHeadingCollapsed": true
   },
   "source": [
    "## Random forest"
   ]
  },
  {
   "cell_type": "code",
   "execution_count": 19,
   "id": "8df4ef6a-f4af-45f5-9ad1-9cb82d476755",
   "metadata": {},
   "outputs": [],
   "source": [
    "from sklearn.ensemble import RandomForestRegressor #random forest model"
   ]
  },
  {
   "cell_type": "markdown",
   "id": "130ee688-a1ec-4881-823d-834c324359a7",
   "metadata": {
    "jp-MarkdownHeadingCollapsed": true
   },
   "source": [
    "## XGBoost"
   ]
  },
  {
   "cell_type": "code",
   "execution_count": 1,
   "id": "3590a1b7-5931-4788-bd61-a0449f4b37d4",
   "metadata": {},
   "outputs": [],
   "source": [
    "#pip instal xgboost # install xgboos"
   ]
  },
  {
   "cell_type": "code",
   "execution_count": 2,
   "id": "a373f937-d49f-4fb5-9ed2-24fa74152613",
   "metadata": {},
   "outputs": [],
   "source": [
    "import xgboost as xgb #xgboos model"
   ]
  },
  {
   "cell_type": "markdown",
   "id": "eff79fd6-c947-4c6f-a3f0-6e5c2cc2e890",
   "metadata": {
    "jp-MarkdownHeadingCollapsed": true
   },
   "source": [
    "## LASSO regression"
   ]
  },
  {
   "cell_type": "code",
   "execution_count": null,
   "id": "f8f3b132-9849-4db1-be98-8a61f38ef5fc",
   "metadata": {},
   "outputs": [],
   "source": [
    "from sklearn.linear_model import Lasso # import Lasso model\n",
    "from sklearn.preprocessing import StandardScaler # import StandardScaler for normalization \n",
    "from sklearn.pipeline import Pipeline # import Pipeline"
   ]
  },
  {
   "cell_type": "markdown",
   "id": "ae6fed0e-ff28-499d-8002-92540ca1098b",
   "metadata": {
    "jp-MarkdownHeadingCollapsed": true
   },
   "source": [
    "# Import database"
   ]
  },
  {
   "cell_type": "code",
   "execution_count": null,
   "id": "b9ad0fea-4390-478e-af38-3315bb2abe85",
   "metadata": {},
   "outputs": [],
   "source": [
    "df = pd.read_csv(\"/home/lafise/Desktop/Samuel/leticiaag/trabalho1/dados_modelo_1.csv\") # database used in Decision tree\n",
    "df2 = pd.read_csv(\"/home/lafise/Desktop/Samuel/leticiaag/trabalho1/dados_modelo_1.csv\") # database used in Random Forest\n",
    "df3 = pd.read_csv(\"/home/lafise/Desktop/Samuel/leticiaag/trabalho1/dados_modelo_1.csv\") # database used in XGBoost\n",
    "df4 = pd.read_csv(\"/home/lafise/Desktop/Samuel/leticiaag/trabalho1/dados_modelo_1.csv\") # database used in Regression"
   ]
  },
  {
   "cell_type": "markdown",
   "id": "346e9810-553d-456f-a2d6-e8c9bf5d9533",
   "metadata": {
    "jp-MarkdownHeadingCollapsed": true
   },
   "source": [
    "# Decision tree model"
   ]
  },
  {
   "cell_type": "markdown",
   "id": "e382da7b-9d2b-4e8e-b1c3-8e733dc9d9a1",
   "metadata": {
    "jp-MarkdownHeadingCollapsed": true
   },
   "source": [
    "## Pre-processing - decision tree"
   ]
  },
  {
   "cell_type": "code",
   "execution_count": null,
   "id": "22dc5f51-e722-480d-b911-946edd85a7d0",
   "metadata": {},
   "outputs": [],
   "source": [
    "X1 = df.drop(\"EndTCORE_C\", axis=1) #separating the predictor variables\n",
    "y1 = df[\"EndTCORE_C\"] #separating the predict variables"
   ]
  },
  {
   "cell_type": "code",
   "execution_count": null,
   "id": "8a73d9a1-767f-4894-b959-022922ff496e",
   "metadata": {},
   "outputs": [],
   "source": [
    "X_train1, X_test1, y_train1, y_test1 = train_test_split(X1, y1, test_size=0.20, random_state=42) #separating the training (80%) and testing (20%) databases.\n",
    "#the 80/20 separation was chosen because the amount of data to train the model when 70/30 or 80/10/10 was chosen did not provide enough data\n",
    "#for creating the model, leading to underfitting. To mitigate overfitting with the 80/20 distribution, the K-fold sampling technique was used."
   ]
  },
  {
   "cell_type": "code",
   "execution_count": null,
   "id": "499ae1a1-48c7-4a85-ae53-040b793f2340",
   "metadata": {},
   "outputs": [],
   "source": [
    "#optimization of hyperparameters\n",
    "param_grid = {\n",
    "    'max_depth': [5, 10, 15, 18, 20], #tre max depth\n",
    "    'min_samples_leaf': [3, 5, 9, 10], #minimum sample leaf\n",
    "    'min_samples_split': [3, 5, 8, 10], #minimum de sample to split\n",
    "    'ccp_alpha': [0.00, 0.02, 0.03] #complexity cost\n",
    "}"
   ]
  },
  {
   "cell_type": "code",
   "execution_count": null,
   "id": "afb34419-c7e7-434a-89d2-04e4a1e54063",
   "metadata": {},
   "outputs": [],
   "source": [
    "dt_regressor_base = DecisionTreeRegressor(random_state=42) #building decision tree instance, used random_state=42 for reproducibility"
   ]
  },
  {
   "cell_type": "code",
   "execution_count": null,
   "id": "ab8c8487-1e72-4b3e-a083-308741d6938f",
   "metadata": {},
   "outputs": [],
   "source": [
    "grid_search = GridSearchCV(estimator=dt_regressor_base, #algorithm base\n",
    "                           param_grid=param_grid, #hyperparameters\n",
    "                           cv=5, #5 K-fold (cross-validation)\n",
    "                           scoring='neg_mean_squared_error', #parameters for choosing the best algorithm\n",
    "                           n_jobs=-1, #uses all threads available processing cores\n",
    "                           verbose=1) #show processing type"
   ]
  },
  {
   "cell_type": "markdown",
   "id": "454675a5-8360-40c0-b984-b439d320184e",
   "metadata": {
    "jp-MarkdownHeadingCollapsed": true
   },
   "source": [
    "## Training model - decision tree"
   ]
  },
  {
   "cell_type": "code",
   "execution_count": null,
   "id": "17a5275d-e97d-400b-ab72-d1c18c1b0caa",
   "metadata": {},
   "outputs": [],
   "source": [
    "grid_search.fit(X_train1, y_train1) #training models with training data"
   ]
  },
  {
   "cell_type": "code",
   "execution_count": null,
   "id": "5d59d31c-f02c-4387-9f8f-a52f0e748d52",
   "metadata": {},
   "outputs": [],
   "source": [
    "best_dt_regressor = grid_search.best_estimator_ #get hyperparameters used for the model\n",
    "print(best_dt_regressor) #show best hyperparameters"
   ]
  },
  {
   "cell_type": "markdown",
   "id": "65b447f2-0387-48ca-8329-57925a7ca442",
   "metadata": {
    "jp-MarkdownHeadingCollapsed": true
   },
   "source": [
    "## Evaluating the model - Decision tree"
   ]
  },
  {
   "cell_type": "code",
   "execution_count": null,
   "id": "d930c58c-9341-42f9-b4f7-93c3786f43e7",
   "metadata": {},
   "outputs": [],
   "source": [
    "mse_train = mean_squared_error(y_train1, best_dt_regressor.predict(X_train1)) #MSE calculation\n",
    "rmse_train = np.sqrt(mse_train) #RMSE calculation\n",
    "r2_train = r2_score(y_train1, best_dt_regressor.predict(X_train1)) #R² calculation\n",
    "print('==========================================================')\n",
    "print(f\"----- Métricas de Avaliação do Modelo - Dados TREINO -----\")\n",
    "print('----------------------------------------------------------')\n",
    "print(f\"Mean Squared Error (MSE): {mse_train:.2f}\")\n",
    "print(f\"Root Mean Squared Error (RMSE): {rmse_train:.2f}\")\n",
    "print(f\"R-squared (R²): {r2_train:.2f}\")\n",
    "\n",
    "mse_optimized = mean_squared_error(y_test1, best_dt_regressor.predict(X_test1)) #MSE calculation\n",
    "rmse_optimized = np.sqrt(mse_optimized) #RMSE calculation \n",
    "r2_optimized = r2_score(y_test1, best_dt_regressor.predict(X_test1)) #R² calculation\n",
    "print('==========================================================')\n",
    "print(f\"----- Métricas de Avaliação do Modelo - Dados TESTE ------\")\n",
    "print('----------------------------------------------------------')\n",
    "print(f\"Mean Squared Error (MSE): {mse_optimized:.2f}\")\n",
    "print(f\"Root Mean Squared Error (RMSE): {rmse_optimized:.2f}\")\n",
    "print(f\"R-squared (R²): {r2_optimized:.2f}\")\n",
    "print('==========================================================')"
   ]
  },
  {
   "cell_type": "markdown",
   "id": "b387debd-ff24-42bb-b9c6-aff391c679b3",
   "metadata": {
    "jp-MarkdownHeadingCollapsed": true
   },
   "source": [
    "# Random forest model"
   ]
  },
  {
   "cell_type": "markdown",
   "id": "7ab00c30-5ba9-4b1d-9ebe-4cacc5c4e57c",
   "metadata": {
    "jp-MarkdownHeadingCollapsed": true
   },
   "source": [
    "## Pre-processing - random forest"
   ]
  },
  {
   "cell_type": "code",
   "execution_count": null,
   "id": "318ee1f3-4038-46d0-8420-02443e7a47de",
   "metadata": {},
   "outputs": [],
   "source": [
    "X2 = df2.drop(\"EndTCORE_C\", axis=1) #separating the predictor variables\n",
    "y2 = df2[\"EndTCORE_C\"] #separating the predict variables"
   ]
  },
  {
   "cell_type": "code",
   "execution_count": null,
   "id": "7f0a82fe-30a3-429f-bbbc-bb35567cb7f0",
   "metadata": {},
   "outputs": [],
   "source": [
    "X_train2, X_test2, y_train2, y_test2 = train_test_split(X2, y2, test_size=0.20, random_state=42)#separating the training (80%) and testing (20%) databases."
   ]
  },
  {
   "cell_type": "code",
   "execution_count": null,
   "id": "d2490c07-560a-4d6f-a696-f4ef9f7da632",
   "metadata": {},
   "outputs": [],
   "source": [
    "#optimization of hyperparameters\n",
    "param_grid_rf = {\n",
    "    'n_estimators': [100, 150, 200], # number of the tree in bagging\n",
    "    'max_depth': [3, 4, 5, 8], # max depth for each tree\n",
    "    'min_samples_leaf': [ 10, 8, 12], #minimum sample leaf\n",
    "    'min_samples_split': [ 10, 8, 12],  #minimum de sample to split\n",
    "    'max_features': ['log2'], # number of features to consider at each split\n",
    "    'ccp_alpha': [0.00, 0.001, 0.002, 0.003] #complexity cost\n",
    "}"
   ]
  },
  {
   "cell_type": "code",
   "execution_count": null,
   "id": "35b1c087-5162-4b7b-addd-19b156e66276",
   "metadata": {},
   "outputs": [],
   "source": [
    "rf_regressor_base = RandomForestRegressor(random_state=42)#building random forest instance, used random_state=42 for reproducibility"
   ]
  },
  {
   "cell_type": "code",
   "execution_count": null,
   "id": "c20a58e9-7675-47f5-afcd-6fb43fd1bf6c",
   "metadata": {},
   "outputs": [],
   "source": [
    "grid_search_rf = GridSearchCV(estimator=rf_regressor_base, #algorithm base\n",
    "                              param_grid=param_grid_rf, #hyperparameters\n",
    "                              cv=5, #5 K-fold (cross-validation)\n",
    "                              scoring='neg_mean_squared_error', #parameters for choosing the best algorithm\n",
    "                              n_jobs=-1, #uses all threads available processing cores\n",
    "                              verbose=1) #show processing type"
   ]
  },
  {
   "cell_type": "markdown",
   "id": "5d91862f-eabb-42c4-9922-3e30c580e624",
   "metadata": {
    "jp-MarkdownHeadingCollapsed": true
   },
   "source": [
    "## Training model - random forest"
   ]
  },
  {
   "cell_type": "code",
   "execution_count": null,
   "id": "3e12353a-9677-4e5d-b929-919a0711173b",
   "metadata": {},
   "outputs": [],
   "source": [
    "grid_search_rf.fit(X_train2, y_train2) #training models with training data"
   ]
  },
  {
   "cell_type": "code",
   "execution_count": null,
   "id": "cd458c81-9ba4-47a6-a22f-5f0d31bab214",
   "metadata": {},
   "outputs": [],
   "source": [
    "best_params_rf = grid_search_rf.best_params_ # get hyperparameters used for the model\n",
    "best_rf_regressor = grid_search_rf.best_estimator_"
   ]
  },
  {
   "cell_type": "markdown",
   "id": "c8b24aab-2a2b-4f73-9379-9c20ffe653ca",
   "metadata": {
    "jp-MarkdownHeadingCollapsed": true
   },
   "source": [
    "## Evaluating model - random forest"
   ]
  },
  {
   "cell_type": "code",
   "execution_count": null,
   "id": "413b32ab-69cd-42f0-8e3f-c6aead8e5ac1",
   "metadata": {},
   "outputs": [],
   "source": [
    "y_pred_rf_optimized = best_rf_regressor.predict(X_test2)\n",
    "y_pred_rf_train = best_rf_regressor.predict(X_train2)"
   ]
  },
  {
   "cell_type": "code",
   "execution_count": null,
   "id": "c6ec0435-3c1c-4719-b673-d02cbb6788cc",
   "metadata": {},
   "outputs": [],
   "source": [
    "mse_rf_train = mean_squared_error(y_train2, y_pred_rf_train) #MSE calculation\n",
    "rmse_rf_train = np.sqrt(mse_rf_train) #RMSE calculation\n",
    "r2_rf_train = r2_score(y_train2, y_pred_rf_train) #R² calculation\n",
    "print('========================================================================')\n",
    "print(f\"\\n--- Métricas de Avaliação do Modelo Random Forest OTIMIZADO (TREINO) ---\")\n",
    "print('------------------------------------------------------------------------')\n",
    "print(f\"Mean Squared Error (MSE): {mse_rf_train:.2f}\")\n",
    "print(f\"Root Mean Squared Error (RMSE): {rmse_rf_train:.2f}\")\n",
    "print(f\"R-squared (R²): {r2_rf_train:.2f}\")\n",
    "\n",
    "mse_rf_optimized = mean_squared_error(y_test2, y_pred_rf_optimized) #MSE calculation\n",
    "rmse_rf_optimized = np.sqrt(mse_rf_optimized) #RMSE calculation\n",
    "r2_rf_optimized = r2_score(y_test2, y_pred_rf_optimized) #R² calculation\n",
    "print('=======================================================================')\n",
    "print(f\"\\n--- Métricas de Avaliação do Modelo Random Forest OTIMIZADO (TESTE) ---\")\n",
    "print('-----------------------------------------------------------------------')\n",
    "print(f\"Mean Squared Error (MSE): {mse_rf_optimized:.2f}\")\n",
    "print(f\"Root Mean Squared Error (RMSE): {rmse_rf_optimized:.2f}\")\n",
    "print(f\"R-squared (R²): {r2_rf_optimized:.2f}\")\n",
    "print('=======================================================================')"
   ]
  },
  {
   "cell_type": "markdown",
   "id": "16470d02-3a89-4666-bb86-a5b51758e6bc",
   "metadata": {
    "jp-MarkdownHeadingCollapsed": true
   },
   "source": [
    "# XGBoost"
   ]
  },
  {
   "cell_type": "markdown",
   "id": "7968e0e9-3a8b-4c88-90da-3870eb245619",
   "metadata": {
    "jp-MarkdownHeadingCollapsed": true
   },
   "source": [
    "## Pre-processing - xgbboost"
   ]
  },
  {
   "cell_type": "code",
   "execution_count": null,
   "id": "c7851c0e-b2c3-4a63-b84d-f2cbb95a72dd",
   "metadata": {},
   "outputs": [],
   "source": [
    "X3 = df3.drop(\"EndTCORE_C\", axis=1) #separating the predictor variables\n",
    "y3 = df3[\"EndTCORE_C\"] #separating the predict variables"
   ]
  },
  {
   "cell_type": "code",
   "execution_count": null,
   "id": "f67f06cf-7c26-4470-bb2d-ff6112eb5b5c",
   "metadata": {},
   "outputs": [],
   "source": [
    "X_train3, X_test3, y_train3, y_test3 = train_test_split(X3, y3, test_size=0.20, random_state=42) #separating the training (80%) and testing (20%) databases."
   ]
  },
  {
   "cell_type": "code",
   "execution_count": null,
   "id": "3da2dd59-bae0-4907-ab69-9619f4af83d2",
   "metadata": {},
   "outputs": [],
   "source": [
    "#otmizacao de hiperparametros\n",
    "param_grid_xgb = { \n",
    "    'n_estimators': [90, 100], # number of the tree in boosting\n",
    "    'learning_rate': [0.01, 0.02, 0.05], # learning rate\n",
    "    'max_depth': [2, 3, 5], # max depth for each tree\n",
    "    'subsample': [0.5, 0.6, 0.7], # subsampling of training data\n",
    "    'colsample_bytree': [0.4, 0.5], # subsampling of columns to building each tree\n",
    "    'gamma': [0.3, 0.4, 0.5], # minimum reduction to make a partition\n",
    "    'min_child_weight': [ 6, 7, 8] # minimum sum of instance weight needed in a child\n",
    "}"
   ]
  },
  {
   "cell_type": "code",
   "execution_count": null,
   "id": "a3675632-a259-40c2-a9ea-7241dea3b78a",
   "metadata": {},
   "outputs": [],
   "source": [
    "xgb_regressor_base = xgb.XGBRegressor(random_state=42, eval_metric='rmse') #criacao da instancia do modelo xgboost, utilizando random_state=42 para asegurar reprodutibilidade "
   ]
  },
  {
   "cell_type": "code",
   "execution_count": null,
   "id": "b8147acb-f68c-4f7c-92a0-43527c879b29",
   "metadata": {},
   "outputs": [],
   "source": [
    "grid_search_xgb = GridSearchCV(estimator=xgb_regressor_base, #algoritmo base\n",
    "                               param_grid=param_grid_xgb, #hiperparametros\n",
    "                               cv=5, #5 K-fold (validacao cruzada)\n",
    "                               scoring='neg_mean_squared_error', # otimiza para o menor MSE\n",
    "                               n_jobs=-1, # usa todos os nucleos disponiveis\n",
    "                               verbose=1) # exibe o progresso"
   ]
  },
  {
   "cell_type": "markdown",
   "id": "c151f5d2-fd0d-4aac-b45a-93ef5a996f82",
   "metadata": {
    "jp-MarkdownHeadingCollapsed": true
   },
   "source": [
    "## Training model - xgboost"
   ]
  },
  {
   "cell_type": "code",
   "execution_count": null,
   "id": "bbc955a0-de49-460a-97cd-9d2c278cffaa",
   "metadata": {},
   "outputs": [],
   "source": [
    "grid_search_xgb.fit(X_train3, y_train3) #treinando o modelo com base nos dados de treino"
   ]
  },
  {
   "cell_type": "code",
   "execution_count": null,
   "id": "66e5bbec-7faa-467c-be98-317c7fb5ca63",
   "metadata": {},
   "outputs": [],
   "source": [
    "best_params_xgb = grid_search_xgb.best_params_\n",
    "best_xgb_regressor = grid_search_xgb.best_estimator_"
   ]
  },
  {
   "cell_type": "code",
   "execution_count": null,
   "id": "1450395a-4d02-46b3-bb34-5ce305198af8",
   "metadata": {},
   "outputs": [],
   "source": [
    "print(best_xgb_regressor)\n",
    "print(best_params_xgb)"
   ]
  },
  {
   "cell_type": "markdown",
   "id": "67fcb24e-bb0d-4bb9-98e8-a5792ac863cb",
   "metadata": {
    "jp-MarkdownHeadingCollapsed": true
   },
   "source": [
    "## Evaluating model - xgboost"
   ]
  },
  {
   "cell_type": "code",
   "execution_count": null,
   "id": "3dc59940-c6a6-4b44-aa10-42f79169cd15",
   "metadata": {},
   "outputs": [],
   "source": [
    "y_pred_xgb_optimized = best_xgb_regressor.predict(X_test3)\n",
    "y_pred_xgb_train = best_xgb_regressor.predict(X_train3)"
   ]
  },
  {
   "cell_type": "code",
   "execution_count": null,
   "id": "68f0f591-a1fd-45f9-8c36-17e596c39f05",
   "metadata": {},
   "outputs": [],
   "source": [
    "mse_xgb_train = mean_squared_error(y_train3, y_pred_xgb_train) #MSE calculation\n",
    "rmse_xgb_train = np.sqrt(mse_xgb_train) #RMSE calculation\n",
    "r2_xgb_train = r2_score(y_train3, y_pred_xgb_train) #R² calculation\n",
    "print('========================================================================')\n",
    "print(f\"\\n--- Métricas de Avaliação do Modelo XGBoost OTIMIZADO (TREINO) ---\")\n",
    "print('------------------------------------------------------------------------')\n",
    "print(f\"Mean Squared Error (MSE): {mse_xgb_train:.2f}\")\n",
    "print(f\"Root Mean Squared Error (RMSE): {rmse_xgb_train:.2f}\")\n",
    "print(f\"R-squared (R²): {r2_xgb_train:.2f}\")\n",
    "\n",
    "mse_xgb_optimized = mean_squared_error(y_test3, y_pred_xgb_optimized) #MSE calculation\n",
    "rmse_xgb_optimized = np.sqrt(mse_xgb_optimized) #RMSE calculation\n",
    "r2_xgb_optimized = r2_score(y_test3, y_pred_xgb_optimized)#R² calculation\n",
    "print('========================================================================')\n",
    "print(f\"\\n--- Métricas de Avaliação do Modelo XGBoost OTIMIZADO (TESTE) ---\")\n",
    "print('------------------------------------------------------------------------')\n",
    "print(f\"Mean Squared Error (MSE): {mse_xgb_optimized:.2f}\")\n",
    "print(f\"Root Mean Squared Error (RMSE): {rmse_xgb_optimized:.2f}\")\n",
    "print(f\"R-squared (R²): {r2_xgb_optimized:.2f}\")\n",
    "print('========================================================================')"
   ]
  },
  {
   "cell_type": "markdown",
   "id": "62c3ac6d-76fb-45f1-8f61-5023b5ee1193",
   "metadata": {},
   "source": [
    "# LASSO regression"
   ]
  },
  {
   "cell_type": "markdown",
   "id": "6e12950f-9717-41c2-b14d-ad6766826f9e",
   "metadata": {
    "jp-MarkdownHeadingCollapsed": true
   },
   "source": [
    "## Pre-processing - lasso regression"
   ]
  },
  {
   "cell_type": "code",
   "execution_count": null,
   "id": "4591b8d6-90b2-4167-a900-f43995eab72b",
   "metadata": {},
   "outputs": [],
   "source": [
    "X4 = df4.drop(\"EndTCORE_C\", axis=1) #separating the predictor variables\n",
    "y4 = df4[\"EndTCORE_C\"] #separating the predictor variables"
   ]
  },
  {
   "cell_type": "code",
   "execution_count": null,
   "id": "0e164fc2-9cd4-47ca-a61d-297a3fb4cb0b",
   "metadata": {},
   "outputs": [],
   "source": [
    "X_train4, X_test4, y_train4, y_test4 = train_test_split(X4, y4, test_size=0.30, random_state=42)#separating the training (80%) and testing (20%) databases."
   ]
  },
  {
   "cell_type": "code",
   "execution_count": null,
   "id": "d53cd744-1cf2-43ca-8f06-3172557edb4c",
   "metadata": {},
   "outputs": [],
   "source": [
    "pipeline = Pipeline([\n",
    "    ('scaler', StandardScaler()), #standardization the features\n",
    "    ('lasso', Lasso(random_state=42, max_iter=2000)) #aplica a Regressão Lasso\n",
    "])\n"
   ]
  },
  {
   "cell_type": "code",
   "execution_count": null,
   "id": "2402de12-4f9c-4385-a43f-530bcd8281cc",
   "metadata": {},
   "outputs": [],
   "source": [
    "param_grid_lasso = {\n",
    "    'lasso__alpha': np.logspace(-4, 2, 7) # test logarithmic scale\n",
    "}"
   ]
  },
  {
   "cell_type": "code",
   "execution_count": null,
   "id": "9c8cd01f-1074-4404-af54-dd7699e9bca6",
   "metadata": {},
   "outputs": [],
   "source": [
    "##optimization of hyperparameters\n",
    "grid_search_lasso = GridSearchCV(estimator=pipeline, #pipeline estimator\n",
    "                                 param_grid=param_grid_lasso, #hyperparameters\n",
    "                                 cv=5, #5 K-fold (cross-validation)\n",
    "                                 scoring='neg_mean_squared_error', #parameters for choosing the best algorithm\n",
    "                                 n_jobs=-1, #uses all threads available processing cores\n",
    "                                 verbose=1) #show processing type"
   ]
  },
  {
   "cell_type": "markdown",
   "id": "811b6da9-c9ee-4fb6-8df6-0563179ebfaa",
   "metadata": {},
   "source": [
    "## Training model - lasso regression"
   ]
  },
  {
   "cell_type": "code",
   "execution_count": null,
   "id": "01f4b51a-fc60-4451-8dd0-9cc0fb787839",
   "metadata": {},
   "outputs": [],
   "source": [
    "grid_search_lasso.fit(X_train4, y_train4) #training the model based on the training data"
   ]
  },
  {
   "cell_type": "code",
   "execution_count": null,
   "id": "929b5d1d-9cf3-40d6-9a41-1b33c71974ff",
   "metadata": {},
   "outputs": [],
   "source": [
    "best_params_lasso = grid_search_lasso.best_params_  # get the best parameters of grid \n",
    "best_lasso_regressor_pipeline = grid_search_lasso.best_estimator_ # get the best parameters \n",
    "print(best_lasso_regressor_pipeline)\n",
    "print(best_params_lasso)"
   ]
  },
  {
   "cell_type": "markdown",
   "id": "d2e47804-c9b8-4db7-9d92-fdd5317199cc",
   "metadata": {},
   "source": [
    "## Evaluating model - lasso regression"
   ]
  },
  {
   "cell_type": "code",
   "execution_count": null,
   "id": "9432b557-510f-49f0-838d-6d18dcc654bd",
   "metadata": {},
   "outputs": [],
   "source": [
    "y_pred_lasso_optimized = best_lasso_regressor_pipeline.predict(X_test4)\n",
    "y_pred_lasso_train = best_lasso_regressor_pipeline.predict(X_train4)"
   ]
  },
  {
   "cell_type": "code",
   "execution_count": null,
   "id": "a01a1118-253c-46b6-bf50-3a5b062c6f0c",
   "metadata": {},
   "outputs": [],
   "source": [
    "mse_lasso_train = mean_squared_error(y_train4, y_pred_lasso_train) #MSE calculation\n",
    "rmse_lasso_train = np.sqrt(mse_lasso_train) #RMSE calculation\n",
    "r2_lasso_train = r2_score(y_train4, y_pred_lasso_train) #R² calculation\n",
    "print('============================================================================')\n",
    "print(f\"\\n--- Métricas de Avaliação do Modelo Lasso Regression OTIMIZADO (TREINO) ----\")\n",
    "print('----------------------------------------------------------------------------')\n",
    "print(f\"Mean Squared Error (MSE): {mse_lasso_train:.2f}\")\n",
    "print(f\"Root Mean Squared Error (RMSE): {rmse_lasso_train:.2f}\")\n",
    "print(f\"R-squared (R²): {r2_lasso_train:.2f}\")\n",
    "print('============================================================================')\n",
    "mse_lasso_optimized = mean_squared_error(y_test4, y_pred_lasso_optimized) #MSE calculation\n",
    "rmse_lasso_optimized = np.sqrt(mse_lasso_optimized) #RMSE calculation\n",
    "r2_lasso_optimized = r2_score(y_test4, y_pred_lasso_optimized) #R² calculation\n",
    "print(f\"\\n--- Métricas de Avaliação do Modelo Lasso Regression OTIMIZADO (TESTE) -----\")\n",
    "print('----------------------------------------------------------------------------')\n",
    "print(f\"Mean Squared Error (MSE): {mse_lasso_optimized:.2f}\")\n",
    "print(f\"Root Mean Squared Error (RMSE): {rmse_lasso_optimized:.2f}\")\n",
    "print(f\"R-squared (R²): {r2_lasso_optimized:.2f}\")\n",
    "print('============================================================================')"
   ]
  },
  {
   "cell_type": "markdown",
   "id": "7e65ef9c-25b6-48df-bd95-d8d89d274934",
   "metadata": {},
   "source": [
    "# General graphic"
   ]
  },
  {
   "cell_type": "code",
   "execution_count": null,
   "id": "3e2de825-2c57-41f4-bce0-b2bd0cff1b8a",
   "metadata": {},
   "outputs": [],
   "source": [
    "# Names maps\n",
    "mapa_de_nomes = {\n",
    "    'Heart_rate_bpm': 'Heart rate',\n",
    "    'WBGT_C': 'WBGT',\n",
    "    'Initial_TCORE_C': 'Initial TCORE',\n",
    "    'VO2MAX_mLkg1min1': 'VO2 Max',\n",
    "    'Mean_TSKIN_C': 'Mean TSKIN',\n",
    "    'Speed_kmh1': 'Speed',\n",
    "    'Delta_mass_': 'Delta mass',\n",
    "    'Sweat_rate_Lh1': 'Sweat rate',\n",
    "    'Body_mass_kg': 'Body mass',\n",
    "    'TCORE__TSKIN_C': 'TCORE-TSKIN'\n",
    "}\n",
    "\n",
    "# data for graphic A (Random forest)\n",
    "importances_rf = (best_rf_regressor.feature_importances_) * 100\n",
    "feature_names_rf = X2.columns\n",
    "rf_importance_df = pd.DataFrame({\n",
    "    'Feature': feature_names_rf,\n",
    "    'Importance': importances_rf\n",
    "}).sort_values(by='Importance', ascending=False)\n",
    "rf_importance_df['Feature'] = rf_importance_df['Feature'].map(mapa_de_nomes)\n",
    "\n",
    "# data for graphic B (XGBoost)\n",
    "importances_xgb = (best_xgb_regressor.feature_importances_) * 100\n",
    "feature_names_xgb = X3.columns\n",
    "xgb_importance_df = pd.DataFrame({\n",
    "    'Feature': feature_names_xgb,\n",
    "    'Importance': importances_xgb\n",
    "}).sort_values(by='Importance', ascending=False).round(2)\n",
    "xgb_importance_df['Feature'] = xgb_importance_df['Feature'].map(mapa_de_nomes)\n",
    "\n",
    "# data for graphic C (LASSO)\n",
    "coefficients_lasso = best_lasso_regressor_pipeline.named_steps['lasso'].coef_\n",
    "feature_names_lasso = X4.columns\n",
    "lasso_coef_df = pd.DataFrame({\n",
    "    'Feature': feature_names_lasso,\n",
    "    'Coefficient': coefficients_lasso\n",
    "}).sort_values(by='Coefficient', key=abs, ascending=False)\n",
    "lasso_coef_nonzero_df = lasso_coef_df[lasso_coef_df['Coefficient'] != 0]\n",
    "lasso_coef_nonzero_df['Feature'] = lasso_coef_nonzero_df['Feature'].map(mapa_de_nomes)\n",
    "\n",
    "fig, axes = plt.subplots(1, 3, figsize=(22, 6))\n",
    "\n",
    "# --- graphic A: Random Forest ---\n",
    "sns.barplot(x='Importance', y='Feature', data=rf_importance_df, edgecolor='black', color='gray', width=0.8, alpha=0.7, ax=axes[0])\n",
    "axes[0].set_title('Figura A: Dataset 1 (Random Forest)', fontsize=14, pad=20)\n",
    "axes[0].set_xlabel('Importância (%)', fontsize=12)\n",
    "axes[0].set_ylabel('Variável Preditora', fontsize=12)\n",
    "axes[0].spines['top'].set_visible(False)\n",
    "axes[0].spines['right'].set_visible(False)\n",
    "axes[0].set_xlim(0, 25)\n",
    "axes[0].set_xticks(np.arange(0, 26, 2.5))\n",
    "\n",
    "# --- graphic B: XGBoost ---\n",
    "sns.barplot(x='Importance', y='Feature', data=xgb_importance_df, edgecolor='black', color='gray', width=0.8, alpha=0.7, ax=axes[1])\n",
    "axes[1].set_title('Figura B: Dataset 1 (XGBoost)', fontsize=14, pad=20)\n",
    "axes[1].set_xlabel('Importância (%)', fontsize=12)\n",
    "axes[1].set_ylabel('') # remove y\n",
    "axes[1].spines['top'].set_visible(False)\n",
    "axes[1].spines['right'].set_visible(False)\n",
    "axes[1].set_xlim(0, 20)\n",
    "axes[1].set_xticks(np.arange(0, 22, 2))\n",
    "\n",
    "\n",
    "# --- graphic C: LASSO ---\n",
    "sns.barplot(x='Coefficient', y='Feature', data=lasso_coef_nonzero_df, edgecolor='black', color='gray', width=0.8, alpha=0.7, ax=axes[2])\n",
    "axes[2].set_title('Figura C: Dataset 1 (LASSO)', fontsize=14, pad=20)\n",
    "axes[2].set_xlabel('Valor do Coeficiente', fontsize=12)\n",
    "axes[2].set_ylabel('') # remove y\n",
    "axes[2].axvline(0, color='black', linewidth=0.8)\n",
    "axes[2].set_xlim(-0.3, 3.0)\n",
    "axes[2].set_xticks(np.arange(-0.3, 3.5, 0.5))\n",
    "axes[2].spines['top'].set_visible(False)\n",
    "axes[2].spines['right'].set_visible(False)\n",
    "\n",
    "plt.tight_layout()\n",
    "\n",
    "#plt.savefig('graficos_dataset1_modelos_comparativo1.png', dpi=300, bbox_inches='tight') #save graphic\n",
    "\n",
    "plt.show()"
   ]
  },
  {
   "cell_type": "markdown",
   "id": "a094e5e7-4c8d-40a0-bcbd-237c79c82539",
   "metadata": {},
   "source": [
    "# Modelo por features"
   ]
  },
  {
   "cell_type": "code",
   "execution_count": null,
   "id": "e3b91250-a5c7-4293-a7a0-e34cf70fc27d",
   "metadata": {},
   "outputs": [],
   "source": []
  }
 ],
 "metadata": {
  "kernelspec": {
   "display_name": "Python 3 (ipykernel)",
   "language": "python",
   "name": "python3"
  },
  "language_info": {
   "codemirror_mode": {
    "name": "ipython",
    "version": 3
   },
   "file_extension": ".py",
   "mimetype": "text/x-python",
   "name": "python",
   "nbconvert_exporter": "python",
   "pygments_lexer": "ipython3",
   "version": "3.12.2"
  }
 },
 "nbformat": 4,
 "nbformat_minor": 5
}
