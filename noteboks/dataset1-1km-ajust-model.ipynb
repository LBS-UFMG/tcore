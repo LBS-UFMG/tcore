{
 "cells": [
  {
   "cell_type": "markdown",
   "id": "d8ad936c",
   "metadata": {},
   "source": [
    "# Modelo de Predição de Temperatura Interna"
   ]
  },
  {
   "cell_type": "markdown",
   "id": "fffe9c04",
   "metadata": {},
   "source": [
    "Organizacao - 1° notebook de modelo de predição de temperatura interna a cada 1 km em corrida autorregulada "
   ]
  },
  {
   "cell_type": "markdown",
   "id": "5222714f",
   "metadata": {},
   "source": [
    "Algoritmos:\n",
    "Lasso, Decision tree, Random forest, XGBoost, SVM\n",
    "\n",
    "Apenas o algoritmo Lasso usou escalonamento \n",
    "\n",
    "Dados processados foram divididos em X e y. Depois divididos em 80% 20%. Nos 80% dados foi aplicado GroupKfold == 5. Os 20% restantes foram usados para a validação dos modelos"
   ]
  },
  {
   "cell_type": "markdown",
   "id": "d9ca906c",
   "metadata": {},
   "source": []
  }
 ],
 "metadata": {
  "language_info": {
   "name": "python"
  }
 },
 "nbformat": 4,
 "nbformat_minor": 5
}
