{
  "cells": [
    {
      "cell_type": "markdown",
      "metadata": {
        "id": "fDIWGONQPfSp"
      },
      "source": [
        "#Importando bibliotecas"
      ]
    },
    {
      "cell_type": "code",
      "execution_count": 1,
      "metadata": {
        "id": "GQ0Tox99NAHC"
      },
      "outputs": [],
      "source": [
        "import pandas as pd\n",
        "import numpy as np"
      ]
    },
    {
      "cell_type": "markdown",
      "metadata": {
        "id": "MuklC4zPP0JL"
      },
      "source": [
        "#Importando base de dados"
      ]
    },
    {
      "cell_type": "code",
      "execution_count": 2,
      "metadata": {
        "id": "HGsUY3AJPk-r"
      },
      "outputs": [],
      "source": [
        "df = pd.read_csv('/home/usuario-leticia/Desktop/Samuel/leticiaag/tcore/data/raw-data/dados-brutos-tcoreend.csv')"
      ]
    },
    {
      "cell_type": "code",
      "execution_count": 3,
      "metadata": {
        "colab": {
          "base_uri": "https://localhost:8080/",
          "height": 278
        },
        "id": "BbRaEuDmQPdP",
        "outputId": "93e771b6-1dac-4143-da01-ad59e4dfb91b"
      },
      "outputs": [
        {
          "data": {
            "text/html": [
              "<div>\n",
              "<style scoped>\n",
              "    .dataframe tbody tr th:only-of-type {\n",
              "        vertical-align: middle;\n",
              "    }\n",
              "\n",
              "    .dataframe tbody tr th {\n",
              "        vertical-align: top;\n",
              "    }\n",
              "\n",
              "    .dataframe thead th {\n",
              "        text-align: right;\n",
              "    }\n",
              "</style>\n",
              "<table border=\"1\" class=\"dataframe\">\n",
              "  <thead>\n",
              "    <tr style=\"text-align: right;\">\n",
              "      <th></th>\n",
              "      <th>Participant</th>\n",
              "      <th>Sex</th>\n",
              "      <th>End-TCORE</th>\n",
              "      <th>Initial TCORE °C</th>\n",
              "      <th>Mean TSKIN °C</th>\n",
              "      <th>TCORE - TSKIN °C</th>\n",
              "      <th>Sweat rate L×h-1</th>\n",
              "      <th>Water intake mL</th>\n",
              "      <th>Speed km×h-1</th>\n",
              "      <th>VO2MAX mL×kg-1×min-1</th>\n",
              "      <th>Heart rate bpm</th>\n",
              "      <th>Body mass kg</th>\n",
              "      <th>Delta mass %</th>\n",
              "      <th>WBGT °C</th>\n",
              "      <th>TDRY °C</th>\n",
              "      <th>TWET °C</th>\n",
              "      <th>Rel, humidity %</th>\n",
              "    </tr>\n",
              "  </thead>\n",
              "  <tbody>\n",
              "    <tr>\n",
              "      <th>0</th>\n",
              "      <td>1</td>\n",
              "      <td>Male</td>\n",
              "      <td>40,75</td>\n",
              "      <td>37,27</td>\n",
              "      <td>35,48</td>\n",
              "      <td>3,55</td>\n",
              "      <td>1,54</td>\n",
              "      <td>340</td>\n",
              "      <td>10,0</td>\n",
              "      <td>63,3</td>\n",
              "      <td>178</td>\n",
              "      <td>67,00</td>\n",
              "      <td>1,79</td>\n",
              "      <td>29,70</td>\n",
              "      <td>32,90</td>\n",
              "      <td>28,33</td>\n",
              "      <td>70,50</td>\n",
              "    </tr>\n",
              "    <tr>\n",
              "      <th>1</th>\n",
              "      <td>2</td>\n",
              "      <td>Male</td>\n",
              "      <td>39,55</td>\n",
              "      <td>36,06</td>\n",
              "      <td>34,51</td>\n",
              "      <td>3,34</td>\n",
              "      <td>1,14</td>\n",
              "      <td>180</td>\n",
              "      <td>9,9</td>\n",
              "      <td>54,7</td>\n",
              "      <td>153</td>\n",
              "      <td>86,78</td>\n",
              "      <td>1,13</td>\n",
              "      <td>29,83</td>\n",
              "      <td>33,02</td>\n",
              "      <td>28,47</td>\n",
              "      <td>70,50</td>\n",
              "    </tr>\n",
              "    <tr>\n",
              "      <th>2</th>\n",
              "      <td>3</td>\n",
              "      <td>Male</td>\n",
              "      <td>38,90</td>\n",
              "      <td>36,46</td>\n",
              "      <td>34,42</td>\n",
              "      <td>3,33</td>\n",
              "      <td>1,46</td>\n",
              "      <td>180</td>\n",
              "      <td>9,2</td>\n",
              "      <td>65,2</td>\n",
              "      <td>135</td>\n",
              "      <td>71,30</td>\n",
              "      <td>1,96</td>\n",
              "      <td>29,73</td>\n",
              "      <td>33,00</td>\n",
              "      <td>28,33</td>\n",
              "      <td>69,67</td>\n",
              "    </tr>\n",
              "    <tr>\n",
              "      <th>3</th>\n",
              "      <td>4</td>\n",
              "      <td>Male</td>\n",
              "      <td>39,72</td>\n",
              "      <td>36,58</td>\n",
              "      <td>35,26</td>\n",
              "      <td>2,75</td>\n",
              "      <td>1,01</td>\n",
              "      <td>694</td>\n",
              "      <td>10,1</td>\n",
              "      <td>67,0</td>\n",
              "      <td>137</td>\n",
              "      <td>64,80</td>\n",
              "      <td>0,47</td>\n",
              "      <td>29,85</td>\n",
              "      <td>33,00</td>\n",
              "      <td>28,50</td>\n",
              "      <td>70,00</td>\n",
              "    </tr>\n",
              "    <tr>\n",
              "      <th>4</th>\n",
              "      <td>5</td>\n",
              "      <td>Male</td>\n",
              "      <td>39,65</td>\n",
              "      <td>36,88</td>\n",
              "      <td>33,95</td>\n",
              "      <td>4,18</td>\n",
              "      <td>1,55</td>\n",
              "      <td>240</td>\n",
              "      <td>9,7</td>\n",
              "      <td>60,9</td>\n",
              "      <td>152</td>\n",
              "      <td>71,50</td>\n",
              "      <td>1,90</td>\n",
              "      <td>30,19</td>\n",
              "      <td>33,15</td>\n",
              "      <td>28,92</td>\n",
              "      <td>73,50</td>\n",
              "    </tr>\n",
              "  </tbody>\n",
              "</table>\n",
              "</div>"
            ],
            "text/plain": [
              "   Participant   Sex End-TCORE  Initial TCORE °C Mean TSKIN °C  \\\n",
              "0            1  Male      40,75            37,27         35,48   \n",
              "1            2  Male      39,55            36,06         34,51   \n",
              "2            3  Male      38,90            36,46         34,42   \n",
              "3            4  Male      39,72            36,58         35,26   \n",
              "4            5  Male      39,65            36,88         33,95   \n",
              "\n",
              "  TCORE - TSKIN °C Sweat rate L×h-1  Water intake mL Speed km×h-1  \\\n",
              "0             3,55             1,54              340         10,0   \n",
              "1             3,34             1,14              180          9,9   \n",
              "2             3,33             1,46              180          9,2   \n",
              "3             2,75             1,01              694         10,1   \n",
              "4             4,18             1,55              240          9,7   \n",
              "\n",
              "  VO2MAX mL×kg-1×min-1  Heart rate bpm Body mass kg Delta mass % WBGT °C  \\\n",
              "0                 63,3             178        67,00         1,79   29,70   \n",
              "1                 54,7             153        86,78         1,13   29,83   \n",
              "2                 65,2             135        71,30         1,96   29,73   \n",
              "3                 67,0             137        64,80         0,47   29,85   \n",
              "4                 60,9             152        71,50         1,90   30,19   \n",
              "\n",
              "  TDRY °C TWET °C Rel, humidity %  \n",
              "0   32,90   28,33           70,50  \n",
              "1   33,02   28,47           70,50  \n",
              "2   33,00   28,33           69,67  \n",
              "3   33,00   28,50           70,00  \n",
              "4   33,15   28,92           73,50  "
            ]
          },
          "execution_count": 3,
          "metadata": {},
          "output_type": "execute_result"
        }
      ],
      "source": [
        "df.head()"
      ]
    },
    {
      "cell_type": "code",
      "execution_count": 4,
      "metadata": {
        "colab": {
          "base_uri": "https://localhost:8080/",
          "height": 278
        },
        "id": "ZvsUzpckU3ui",
        "outputId": "53c31ca3-2dc0-4d73-e6d6-435fd4381025"
      },
      "outputs": [
        {
          "data": {
            "text/html": [
              "<div>\n",
              "<style scoped>\n",
              "    .dataframe tbody tr th:only-of-type {\n",
              "        vertical-align: middle;\n",
              "    }\n",
              "\n",
              "    .dataframe tbody tr th {\n",
              "        vertical-align: top;\n",
              "    }\n",
              "\n",
              "    .dataframe thead th {\n",
              "        text-align: right;\n",
              "    }\n",
              "</style>\n",
              "<table border=\"1\" class=\"dataframe\">\n",
              "  <thead>\n",
              "    <tr style=\"text-align: right;\">\n",
              "      <th></th>\n",
              "      <th>Participant</th>\n",
              "      <th>Sex</th>\n",
              "      <th>End-TCORE</th>\n",
              "      <th>Initial TCORE °C</th>\n",
              "      <th>Mean TSKIN °C</th>\n",
              "      <th>TCORE - TSKIN °C</th>\n",
              "      <th>Sweat rate L×h-1</th>\n",
              "      <th>Water intake mL</th>\n",
              "      <th>Speed km×h-1</th>\n",
              "      <th>VO2MAX mL×kg-1×min-1</th>\n",
              "      <th>Heart rate bpm</th>\n",
              "      <th>Body mass kg</th>\n",
              "      <th>Delta mass %</th>\n",
              "      <th>WBGT °C</th>\n",
              "      <th>TDRY °C</th>\n",
              "      <th>TWET °C</th>\n",
              "      <th>Rel, humidity %</th>\n",
              "    </tr>\n",
              "  </thead>\n",
              "  <tbody>\n",
              "    <tr>\n",
              "      <th>70</th>\n",
              "      <td>71</td>\n",
              "      <td>Male</td>\n",
              "      <td>40,56</td>\n",
              "      <td>37,27</td>\n",
              "      <td>35,81</td>\n",
              "      <td>3,01</td>\n",
              "      <td>2,01</td>\n",
              "      <td>313</td>\n",
              "      <td>14,9</td>\n",
              "      <td>58,2</td>\n",
              "      <td>169</td>\n",
              "      <td>61,82</td>\n",
              "      <td>1,68</td>\n",
              "      <td>28,99</td>\n",
              "      <td>32,89</td>\n",
              "      <td>27,31</td>\n",
              "      <td>64,18</td>\n",
              "    </tr>\n",
              "    <tr>\n",
              "      <th>71</th>\n",
              "      <td>72</td>\n",
              "      <td>Male</td>\n",
              "      <td>39,19</td>\n",
              "      <td>36,47</td>\n",
              "      <td>35,03</td>\n",
              "      <td>2,78</td>\n",
              "      <td>2,26</td>\n",
              "      <td>332</td>\n",
              "      <td>10,9</td>\n",
              "      <td>50,4</td>\n",
              "      <td>160</td>\n",
              "      <td>83,20</td>\n",
              "      <td>2,09</td>\n",
              "      <td>29,03</td>\n",
              "      <td>32,75</td>\n",
              "      <td>27,44</td>\n",
              "      <td>65,73</td>\n",
              "    </tr>\n",
              "    <tr>\n",
              "      <th>72</th>\n",
              "      <td>73</td>\n",
              "      <td>Male</td>\n",
              "      <td>39,60</td>\n",
              "      <td>37,06</td>\n",
              "      <td>34,87</td>\n",
              "      <td>3,52</td>\n",
              "      <td>2,20</td>\n",
              "      <td>607</td>\n",
              "      <td>12,7</td>\n",
              "      <td>55,0</td>\n",
              "      <td>163</td>\n",
              "      <td>85,16</td>\n",
              "      <td>1,32</td>\n",
              "      <td>28,82</td>\n",
              "      <td>32,75</td>\n",
              "      <td>27,13</td>\n",
              "      <td>63,82</td>\n",
              "    </tr>\n",
              "    <tr>\n",
              "      <th>73</th>\n",
              "      <td>74</td>\n",
              "      <td>Male</td>\n",
              "      <td>39,50</td>\n",
              "      <td>36,74</td>\n",
              "      <td>34,95</td>\n",
              "      <td>3,15</td>\n",
              "      <td>1,64</td>\n",
              "      <td>268</td>\n",
              "      <td>11,7</td>\n",
              "      <td>49,6</td>\n",
              "      <td>165</td>\n",
              "      <td>80,94</td>\n",
              "      <td>1,41</td>\n",
              "      <td>28,87</td>\n",
              "      <td>32,80</td>\n",
              "      <td>27,18</td>\n",
              "      <td>63,91</td>\n",
              "    </tr>\n",
              "    <tr>\n",
              "      <th>74</th>\n",
              "      <td>75</td>\n",
              "      <td>Male</td>\n",
              "      <td>39,95</td>\n",
              "      <td>37,00</td>\n",
              "      <td>34,65</td>\n",
              "      <td>3,96</td>\n",
              "      <td>1,53</td>\n",
              "      <td>205</td>\n",
              "      <td>9,5</td>\n",
              "      <td>44,1</td>\n",
              "      <td>164</td>\n",
              "      <td>75,64</td>\n",
              "      <td>1,85</td>\n",
              "      <td>28,98</td>\n",
              "      <td>32,89</td>\n",
              "      <td>27,30</td>\n",
              "      <td>64,09</td>\n",
              "    </tr>\n",
              "  </tbody>\n",
              "</table>\n",
              "</div>"
            ],
            "text/plain": [
              "    Participant   Sex End-TCORE  Initial TCORE °C Mean TSKIN °C  \\\n",
              "70           71  Male      40,56            37,27         35,81   \n",
              "71           72  Male      39,19            36,47         35,03   \n",
              "72           73  Male      39,60            37,06         34,87   \n",
              "73           74  Male      39,50            36,74         34,95   \n",
              "74           75  Male      39,95            37,00         34,65   \n",
              "\n",
              "   TCORE - TSKIN °C Sweat rate L×h-1  Water intake mL Speed km×h-1  \\\n",
              "70             3,01             2,01              313         14,9   \n",
              "71             2,78             2,26              332         10,9   \n",
              "72             3,52             2,20              607         12,7   \n",
              "73             3,15             1,64              268         11,7   \n",
              "74             3,96             1,53              205          9,5   \n",
              "\n",
              "   VO2MAX mL×kg-1×min-1  Heart rate bpm Body mass kg Delta mass % WBGT °C  \\\n",
              "70                 58,2             169        61,82         1,68   28,99   \n",
              "71                 50,4             160        83,20         2,09   29,03   \n",
              "72                 55,0             163        85,16         1,32   28,82   \n",
              "73                 49,6             165        80,94         1,41   28,87   \n",
              "74                 44,1             164        75,64         1,85   28,98   \n",
              "\n",
              "   TDRY °C TWET °C Rel, humidity %  \n",
              "70   32,89   27,31           64,18  \n",
              "71   32,75   27,44           65,73  \n",
              "72   32,75   27,13           63,82  \n",
              "73   32,80   27,18           63,91  \n",
              "74   32,89   27,30           64,09  "
            ]
          },
          "execution_count": 4,
          "metadata": {},
          "output_type": "execute_result"
        }
      ],
      "source": [
        "df.tail()"
      ]
    },
    {
      "cell_type": "markdown",
      "metadata": {
        "id": "57dbtZSJV4Zc"
      },
      "source": [
        "#Pré-processamento"
      ]
    },
    {
      "cell_type": "code",
      "execution_count": 5,
      "metadata": {
        "colab": {
          "base_uri": "https://localhost:8080/"
        },
        "id": "-xKYUk74VHiJ",
        "outputId": "f85579a5-1c6d-447c-817c-c5442fe9e19d"
      },
      "outputs": [
        {
          "name": "stdout",
          "output_type": "stream",
          "text": [
            "Index(['Participant', 'Sex', 'EndTCORE', 'Initial_TCORE_C', 'Mean_TSKIN_C',\n",
            "       'TCORE__TSKIN_C', 'Sweat_rate_Lh1', 'Water_intake_mL', 'Speed_kmh1',\n",
            "       'VO2MAX_mLkg1min1', 'Heart_rate_bpm', 'Body_mass_kg', 'Delta_mass_',\n",
            "       'WBGT_C', 'TDRY_C', 'TWET_C', 'Rel_humidity_'],\n",
            "      dtype='object')\n"
          ]
        }
      ],
      "source": [
        "#Substituindo caracteres inválidos\n",
        "df.columns = df.columns.str.strip().str.replace(' ', '_').str.replace('[^0-9a-zA-Z_]', '', regex=True)\n",
        "print(df.columns)"
      ]
    },
    {
      "cell_type": "code",
      "execution_count": 6,
      "metadata": {
        "colab": {
          "base_uri": "https://localhost:8080/",
          "height": 649
        },
        "id": "jBP3C4GlVoLS",
        "outputId": "d675b7f4-c675-4066-dbc6-c7d132cba70f"
      },
      "outputs": [
        {
          "data": {
            "text/plain": [
              "Participant         0\n",
              "Sex                 0\n",
              "EndTCORE            0\n",
              "Initial_TCORE_C     0\n",
              "Mean_TSKIN_C        0\n",
              "TCORE__TSKIN_C      0\n",
              "Sweat_rate_Lh1      0\n",
              "Water_intake_mL     0\n",
              "Speed_kmh1          0\n",
              "VO2MAX_mLkg1min1    0\n",
              "Heart_rate_bpm      0\n",
              "Body_mass_kg        0\n",
              "Delta_mass_         0\n",
              "WBGT_C              0\n",
              "TDRY_C              0\n",
              "TWET_C              0\n",
              "Rel_humidity_       0\n",
              "dtype: int64"
            ]
          },
          "execution_count": 6,
          "metadata": {},
          "output_type": "execute_result"
        }
      ],
      "source": [
        "df.isnull().sum() #procurando por dados nan ou na"
      ]
    },
    {
      "cell_type": "code",
      "execution_count": 7,
      "metadata": {
        "colab": {
          "base_uri": "https://localhost:8080/"
        },
        "id": "zJLh1wu3WGfP",
        "outputId": "6f9acf54-5dc4-4f0a-8f4e-00483e34dc9e"
      },
      "outputs": [
        {
          "name": "stdout",
          "output_type": "stream",
          "text": [
            "<class 'pandas.core.frame.DataFrame'>\n",
            "RangeIndex: 75 entries, 0 to 74\n",
            "Data columns (total 17 columns):\n",
            " #   Column            Non-Null Count  Dtype \n",
            "---  ------            --------------  ----- \n",
            " 0   Participant       75 non-null     int64 \n",
            " 1   Sex               75 non-null     object\n",
            " 2   EndTCORE          75 non-null     object\n",
            " 3   Initial_TCORE_C   75 non-null     object\n",
            " 4   Mean_TSKIN_C      75 non-null     object\n",
            " 5   TCORE__TSKIN_C    75 non-null     object\n",
            " 6   Sweat_rate_Lh1    75 non-null     object\n",
            " 7   Water_intake_mL   75 non-null     int64 \n",
            " 8   Speed_kmh1        75 non-null     object\n",
            " 9   VO2MAX_mLkg1min1  75 non-null     object\n",
            " 10  Heart_rate_bpm    75 non-null     int64 \n",
            " 11  Body_mass_kg      75 non-null     object\n",
            " 12  Delta_mass_       75 non-null     object\n",
            " 13  WBGT_C            75 non-null     object\n",
            " 14  TDRY_C            75 non-null     object\n",
            " 15  TWET_C            75 non-null     object\n",
            " 16  Rel_humidity_     75 non-null     object\n",
            "dtypes: int64(3), object(14)\n",
            "memory usage: 10.1+ KB\n"
          ]
        }
      ],
      "source": [
        "df.info()"
      ]
    },
    {
      "cell_type": "code",
      "execution_count": 8,
      "metadata": {
        "id": "h3qHNdsbWKp3"
      },
      "outputs": [],
      "source": [
        "#Tocando ponto por vírgula\n",
        "for columns in df.columns:\n",
        "  if columns != 'Sex' and df[columns].dtype == 'object':\n",
        "    df[columns] = df[columns].str.replace(',', '.').astype(float)"
      ]
    },
    {
      "cell_type": "code",
      "execution_count": 9,
      "metadata": {
        "id": "GlBCJnLUW1cw"
      },
      "outputs": [],
      "source": [
        "#Modificando a estrutura de dados\n",
        "for columns in df.columns:\n",
        "  if columns != 'Sex' and df[columns].dtype == 'object':\n",
        "    df[columns] = pd.to_numeric(df[columns])"
      ]
    },
    {
      "cell_type": "code",
      "execution_count": 10,
      "metadata": {
        "colab": {
          "base_uri": "https://localhost:8080/"
        },
        "id": "-sAbbWudXuAS",
        "outputId": "dd82c521-201b-4b67-9308-dea302350bd1"
      },
      "outputs": [
        {
          "name": "stdout",
          "output_type": "stream",
          "text": [
            "<class 'pandas.core.frame.DataFrame'>\n",
            "RangeIndex: 75 entries, 0 to 74\n",
            "Data columns (total 17 columns):\n",
            " #   Column            Non-Null Count  Dtype  \n",
            "---  ------            --------------  -----  \n",
            " 0   Participant       75 non-null     int64  \n",
            " 1   Sex               75 non-null     object \n",
            " 2   EndTCORE          75 non-null     float64\n",
            " 3   Initial_TCORE_C   75 non-null     float64\n",
            " 4   Mean_TSKIN_C      75 non-null     float64\n",
            " 5   TCORE__TSKIN_C    75 non-null     float64\n",
            " 6   Sweat_rate_Lh1    75 non-null     float64\n",
            " 7   Water_intake_mL   75 non-null     int64  \n",
            " 8   Speed_kmh1        75 non-null     float64\n",
            " 9   VO2MAX_mLkg1min1  75 non-null     float64\n",
            " 10  Heart_rate_bpm    75 non-null     int64  \n",
            " 11  Body_mass_kg      75 non-null     float64\n",
            " 12  Delta_mass_       75 non-null     float64\n",
            " 13  WBGT_C            75 non-null     float64\n",
            " 14  TDRY_C            75 non-null     float64\n",
            " 15  TWET_C            75 non-null     float64\n",
            " 16  Rel_humidity_     75 non-null     float64\n",
            "dtypes: float64(13), int64(3), object(1)\n",
            "memory usage: 10.1+ KB\n"
          ]
        }
      ],
      "source": [
        "df.info()"
      ]
    },
    {
      "cell_type": "markdown",
      "metadata": {
        "id": "r2RMR9_FXx6a"
      },
      "source": [
        "#Seprando as base de dados para cada modelo"
      ]
    },
    {
      "cell_type": "markdown",
      "metadata": {
        "id": "J9CxclNwDwUH"
      },
      "source": [
        "##Modelo 1"
      ]
    },
    {
      "cell_type": "code",
      "execution_count": 11,
      "metadata": {
        "id": "oj4C6RpSXvRL"
      },
      "outputs": [],
      "source": [
        "dados_modelo_1 = df[[\"EndTCORE\", \"WBGT_C\", \"Speed_kmh1\", \"Initial_TCORE_C\", \"Body_mass_kg\", \"TCORE__TSKIN_C\", \"Mean_TSKIN_C\", \"Sweat_rate_Lh1\", \"VO2MAX_mLkg1min1\", \"Heart_rate_bpm\", \"Delta_mass_\"]]"
      ]
    },
    {
      "cell_type": "code",
      "execution_count": 12,
      "metadata": {
        "colab": {
          "base_uri": "https://localhost:8080/",
          "height": 226
        },
        "id": "YWBfNv5EDIGM",
        "outputId": "96bd9196-3d82-4f0e-f41b-4d53496cddab"
      },
      "outputs": [
        {
          "data": {
            "text/html": [
              "<div>\n",
              "<style scoped>\n",
              "    .dataframe tbody tr th:only-of-type {\n",
              "        vertical-align: middle;\n",
              "    }\n",
              "\n",
              "    .dataframe tbody tr th {\n",
              "        vertical-align: top;\n",
              "    }\n",
              "\n",
              "    .dataframe thead th {\n",
              "        text-align: right;\n",
              "    }\n",
              "</style>\n",
              "<table border=\"1\" class=\"dataframe\">\n",
              "  <thead>\n",
              "    <tr style=\"text-align: right;\">\n",
              "      <th></th>\n",
              "      <th>EndTCORE</th>\n",
              "      <th>WBGT_C</th>\n",
              "      <th>Speed_kmh1</th>\n",
              "      <th>Initial_TCORE_C</th>\n",
              "      <th>Body_mass_kg</th>\n",
              "      <th>TCORE__TSKIN_C</th>\n",
              "      <th>Mean_TSKIN_C</th>\n",
              "      <th>Sweat_rate_Lh1</th>\n",
              "      <th>VO2MAX_mLkg1min1</th>\n",
              "      <th>Heart_rate_bpm</th>\n",
              "      <th>Delta_mass_</th>\n",
              "    </tr>\n",
              "  </thead>\n",
              "  <tbody>\n",
              "    <tr>\n",
              "      <th>0</th>\n",
              "      <td>40.75</td>\n",
              "      <td>29.70</td>\n",
              "      <td>10.0</td>\n",
              "      <td>37.27</td>\n",
              "      <td>67.00</td>\n",
              "      <td>3.55</td>\n",
              "      <td>35.48</td>\n",
              "      <td>1.54</td>\n",
              "      <td>63.3</td>\n",
              "      <td>178</td>\n",
              "      <td>1.79</td>\n",
              "    </tr>\n",
              "    <tr>\n",
              "      <th>1</th>\n",
              "      <td>39.55</td>\n",
              "      <td>29.83</td>\n",
              "      <td>9.9</td>\n",
              "      <td>36.06</td>\n",
              "      <td>86.78</td>\n",
              "      <td>3.34</td>\n",
              "      <td>34.51</td>\n",
              "      <td>1.14</td>\n",
              "      <td>54.7</td>\n",
              "      <td>153</td>\n",
              "      <td>1.13</td>\n",
              "    </tr>\n",
              "    <tr>\n",
              "      <th>2</th>\n",
              "      <td>38.90</td>\n",
              "      <td>29.73</td>\n",
              "      <td>9.2</td>\n",
              "      <td>36.46</td>\n",
              "      <td>71.30</td>\n",
              "      <td>3.33</td>\n",
              "      <td>34.42</td>\n",
              "      <td>1.46</td>\n",
              "      <td>65.2</td>\n",
              "      <td>135</td>\n",
              "      <td>1.96</td>\n",
              "    </tr>\n",
              "    <tr>\n",
              "      <th>3</th>\n",
              "      <td>39.72</td>\n",
              "      <td>29.85</td>\n",
              "      <td>10.1</td>\n",
              "      <td>36.58</td>\n",
              "      <td>64.80</td>\n",
              "      <td>2.75</td>\n",
              "      <td>35.26</td>\n",
              "      <td>1.01</td>\n",
              "      <td>67.0</td>\n",
              "      <td>137</td>\n",
              "      <td>0.47</td>\n",
              "    </tr>\n",
              "    <tr>\n",
              "      <th>4</th>\n",
              "      <td>39.65</td>\n",
              "      <td>30.19</td>\n",
              "      <td>9.7</td>\n",
              "      <td>36.88</td>\n",
              "      <td>71.50</td>\n",
              "      <td>4.18</td>\n",
              "      <td>33.95</td>\n",
              "      <td>1.55</td>\n",
              "      <td>60.9</td>\n",
              "      <td>152</td>\n",
              "      <td>1.90</td>\n",
              "    </tr>\n",
              "  </tbody>\n",
              "</table>\n",
              "</div>"
            ],
            "text/plain": [
              "   EndTCORE  WBGT_C  Speed_kmh1  Initial_TCORE_C  Body_mass_kg  \\\n",
              "0     40.75   29.70        10.0            37.27         67.00   \n",
              "1     39.55   29.83         9.9            36.06         86.78   \n",
              "2     38.90   29.73         9.2            36.46         71.30   \n",
              "3     39.72   29.85        10.1            36.58         64.80   \n",
              "4     39.65   30.19         9.7            36.88         71.50   \n",
              "\n",
              "   TCORE__TSKIN_C  Mean_TSKIN_C  Sweat_rate_Lh1  VO2MAX_mLkg1min1  \\\n",
              "0            3.55         35.48            1.54              63.3   \n",
              "1            3.34         34.51            1.14              54.7   \n",
              "2            3.33         34.42            1.46              65.2   \n",
              "3            2.75         35.26            1.01              67.0   \n",
              "4            4.18         33.95            1.55              60.9   \n",
              "\n",
              "   Heart_rate_bpm  Delta_mass_  \n",
              "0             178         1.79  \n",
              "1             153         1.13  \n",
              "2             135         1.96  \n",
              "3             137         0.47  \n",
              "4             152         1.90  "
            ]
          },
          "execution_count": 12,
          "metadata": {},
          "output_type": "execute_result"
        }
      ],
      "source": [
        "dados_modelo_1.head()"
      ]
    },
    {
      "cell_type": "code",
      "execution_count": 13,
      "metadata": {
        "colab": {
          "base_uri": "https://localhost:8080/"
        },
        "id": "6G6_-aueDNnN",
        "outputId": "428adfa2-e763-43db-ccf9-62bd222e1dbd"
      },
      "outputs": [
        {
          "name": "stdout",
          "output_type": "stream",
          "text": [
            "<class 'pandas.core.frame.DataFrame'>\n",
            "RangeIndex: 75 entries, 0 to 74\n",
            "Data columns (total 11 columns):\n",
            " #   Column            Non-Null Count  Dtype  \n",
            "---  ------            --------------  -----  \n",
            " 0   EndTCORE          75 non-null     float64\n",
            " 1   WBGT_C            75 non-null     float64\n",
            " 2   Speed_kmh1        75 non-null     float64\n",
            " 3   Initial_TCORE_C   75 non-null     float64\n",
            " 4   Body_mass_kg      75 non-null     float64\n",
            " 5   TCORE__TSKIN_C    75 non-null     float64\n",
            " 6   Mean_TSKIN_C      75 non-null     float64\n",
            " 7   Sweat_rate_Lh1    75 non-null     float64\n",
            " 8   VO2MAX_mLkg1min1  75 non-null     float64\n",
            " 9   Heart_rate_bpm    75 non-null     int64  \n",
            " 10  Delta_mass_       75 non-null     float64\n",
            "dtypes: float64(10), int64(1)\n",
            "memory usage: 6.6 KB\n"
          ]
        }
      ],
      "source": [
        "dados_modelo_1.info()"
      ]
    },
    {
      "cell_type": "code",
      "execution_count": 14,
      "metadata": {
        "id": "HW79ImhdDZfa"
      },
      "outputs": [],
      "source": [
        "#Descomentar a linha abaixo para salvar o DataFrame em um arquivo CSV\n",
        "#dados_modelo_1.to_csv('dados_modelo_1.csv', index=False)"
      ]
    },
    {
      "cell_type": "markdown",
      "metadata": {
        "id": "rDVUuFMPDzyh"
      },
      "source": [
        "##Modelo 2"
      ]
    },
    {
      "cell_type": "code",
      "execution_count": 15,
      "metadata": {
        "id": "fqWB7uy5Drxi"
      },
      "outputs": [],
      "source": [
        "dados_modelo_2 = df[[\"EndTCORE\",\"WBGT_C\", \"Speed_kmh1\", \"Initial_TCORE_C\", \"TCORE__TSKIN_C\", \"Sweat_rate_Lh1\",\"VO2MAX_mLkg1min1\", \"Heart_rate_bpm\", \"Delta_mass_\" ]]"
      ]
    },
    {
      "cell_type": "code",
      "execution_count": 16,
      "metadata": {
        "colab": {
          "base_uri": "https://localhost:8080/",
          "height": 206
        },
        "id": "ag5A5oSvETQL",
        "outputId": "6cdfc656-0aee-4bdb-ea4e-c3afebcefa14"
      },
      "outputs": [
        {
          "data": {
            "text/html": [
              "<div>\n",
              "<style scoped>\n",
              "    .dataframe tbody tr th:only-of-type {\n",
              "        vertical-align: middle;\n",
              "    }\n",
              "\n",
              "    .dataframe tbody tr th {\n",
              "        vertical-align: top;\n",
              "    }\n",
              "\n",
              "    .dataframe thead th {\n",
              "        text-align: right;\n",
              "    }\n",
              "</style>\n",
              "<table border=\"1\" class=\"dataframe\">\n",
              "  <thead>\n",
              "    <tr style=\"text-align: right;\">\n",
              "      <th></th>\n",
              "      <th>EndTCORE</th>\n",
              "      <th>WBGT_C</th>\n",
              "      <th>Speed_kmh1</th>\n",
              "      <th>Initial_TCORE_C</th>\n",
              "      <th>TCORE__TSKIN_C</th>\n",
              "      <th>Sweat_rate_Lh1</th>\n",
              "      <th>VO2MAX_mLkg1min1</th>\n",
              "      <th>Heart_rate_bpm</th>\n",
              "      <th>Delta_mass_</th>\n",
              "    </tr>\n",
              "  </thead>\n",
              "  <tbody>\n",
              "    <tr>\n",
              "      <th>0</th>\n",
              "      <td>40.75</td>\n",
              "      <td>29.70</td>\n",
              "      <td>10.0</td>\n",
              "      <td>37.27</td>\n",
              "      <td>3.55</td>\n",
              "      <td>1.54</td>\n",
              "      <td>63.3</td>\n",
              "      <td>178</td>\n",
              "      <td>1.79</td>\n",
              "    </tr>\n",
              "    <tr>\n",
              "      <th>1</th>\n",
              "      <td>39.55</td>\n",
              "      <td>29.83</td>\n",
              "      <td>9.9</td>\n",
              "      <td>36.06</td>\n",
              "      <td>3.34</td>\n",
              "      <td>1.14</td>\n",
              "      <td>54.7</td>\n",
              "      <td>153</td>\n",
              "      <td>1.13</td>\n",
              "    </tr>\n",
              "    <tr>\n",
              "      <th>2</th>\n",
              "      <td>38.90</td>\n",
              "      <td>29.73</td>\n",
              "      <td>9.2</td>\n",
              "      <td>36.46</td>\n",
              "      <td>3.33</td>\n",
              "      <td>1.46</td>\n",
              "      <td>65.2</td>\n",
              "      <td>135</td>\n",
              "      <td>1.96</td>\n",
              "    </tr>\n",
              "    <tr>\n",
              "      <th>3</th>\n",
              "      <td>39.72</td>\n",
              "      <td>29.85</td>\n",
              "      <td>10.1</td>\n",
              "      <td>36.58</td>\n",
              "      <td>2.75</td>\n",
              "      <td>1.01</td>\n",
              "      <td>67.0</td>\n",
              "      <td>137</td>\n",
              "      <td>0.47</td>\n",
              "    </tr>\n",
              "    <tr>\n",
              "      <th>4</th>\n",
              "      <td>39.65</td>\n",
              "      <td>30.19</td>\n",
              "      <td>9.7</td>\n",
              "      <td>36.88</td>\n",
              "      <td>4.18</td>\n",
              "      <td>1.55</td>\n",
              "      <td>60.9</td>\n",
              "      <td>152</td>\n",
              "      <td>1.90</td>\n",
              "    </tr>\n",
              "  </tbody>\n",
              "</table>\n",
              "</div>"
            ],
            "text/plain": [
              "   EndTCORE  WBGT_C  Speed_kmh1  Initial_TCORE_C  TCORE__TSKIN_C  \\\n",
              "0     40.75   29.70        10.0            37.27            3.55   \n",
              "1     39.55   29.83         9.9            36.06            3.34   \n",
              "2     38.90   29.73         9.2            36.46            3.33   \n",
              "3     39.72   29.85        10.1            36.58            2.75   \n",
              "4     39.65   30.19         9.7            36.88            4.18   \n",
              "\n",
              "   Sweat_rate_Lh1  VO2MAX_mLkg1min1  Heart_rate_bpm  Delta_mass_  \n",
              "0            1.54              63.3             178         1.79  \n",
              "1            1.14              54.7             153         1.13  \n",
              "2            1.46              65.2             135         1.96  \n",
              "3            1.01              67.0             137         0.47  \n",
              "4            1.55              60.9             152         1.90  "
            ]
          },
          "execution_count": 16,
          "metadata": {},
          "output_type": "execute_result"
        }
      ],
      "source": [
        "dados_modelo_2.head()"
      ]
    },
    {
      "cell_type": "code",
      "execution_count": 17,
      "metadata": {
        "colab": {
          "base_uri": "https://localhost:8080/"
        },
        "id": "oGK2iNKYEXlY",
        "outputId": "9ec74112-1cf4-4815-8b7b-ff7aa7df5e51"
      },
      "outputs": [
        {
          "name": "stdout",
          "output_type": "stream",
          "text": [
            "<class 'pandas.core.frame.DataFrame'>\n",
            "RangeIndex: 75 entries, 0 to 74\n",
            "Data columns (total 9 columns):\n",
            " #   Column            Non-Null Count  Dtype  \n",
            "---  ------            --------------  -----  \n",
            " 0   EndTCORE          75 non-null     float64\n",
            " 1   WBGT_C            75 non-null     float64\n",
            " 2   Speed_kmh1        75 non-null     float64\n",
            " 3   Initial_TCORE_C   75 non-null     float64\n",
            " 4   TCORE__TSKIN_C    75 non-null     float64\n",
            " 5   Sweat_rate_Lh1    75 non-null     float64\n",
            " 6   VO2MAX_mLkg1min1  75 non-null     float64\n",
            " 7   Heart_rate_bpm    75 non-null     int64  \n",
            " 8   Delta_mass_       75 non-null     float64\n",
            "dtypes: float64(8), int64(1)\n",
            "memory usage: 5.4 KB\n"
          ]
        }
      ],
      "source": [
        "dados_modelo_2.info()"
      ]
    },
    {
      "cell_type": "code",
      "execution_count": 18,
      "metadata": {
        "id": "3SrmKyT5GSU-"
      },
      "outputs": [],
      "source": [
        "#Descomentar a linha abaixo para salvar o DataFrame em um arquivo CSV\n",
        "#dados_modelo_2.to_csv('dados_modelo_2.csv', index=False)"
      ]
    },
    {
      "cell_type": "markdown",
      "metadata": {
        "id": "9JOkcv5WEbk0"
      },
      "source": [
        "##Modelo 3"
      ]
    },
    {
      "cell_type": "code",
      "execution_count": 19,
      "metadata": {
        "id": "DPKJMa1TEZUP"
      },
      "outputs": [],
      "source": [
        "dados_modelo_3 = df[[\"EndTCORE\", \"Heart_rate_bpm\", \"Sweat_rate_Lh1\", \"WBGT_C\", \"Speed_kmh1\", \"VO2MAX_mLkg1min1\"]]"
      ]
    },
    {
      "cell_type": "code",
      "execution_count": 20,
      "metadata": {
        "colab": {
          "base_uri": "https://localhost:8080/",
          "height": 206
        },
        "id": "HLWmjEyEFX9P",
        "outputId": "2373d0a9-6701-4579-ed4b-117c409b280e"
      },
      "outputs": [
        {
          "data": {
            "text/html": [
              "<div>\n",
              "<style scoped>\n",
              "    .dataframe tbody tr th:only-of-type {\n",
              "        vertical-align: middle;\n",
              "    }\n",
              "\n",
              "    .dataframe tbody tr th {\n",
              "        vertical-align: top;\n",
              "    }\n",
              "\n",
              "    .dataframe thead th {\n",
              "        text-align: right;\n",
              "    }\n",
              "</style>\n",
              "<table border=\"1\" class=\"dataframe\">\n",
              "  <thead>\n",
              "    <tr style=\"text-align: right;\">\n",
              "      <th></th>\n",
              "      <th>EndTCORE</th>\n",
              "      <th>Heart_rate_bpm</th>\n",
              "      <th>Sweat_rate_Lh1</th>\n",
              "      <th>WBGT_C</th>\n",
              "      <th>Speed_kmh1</th>\n",
              "      <th>VO2MAX_mLkg1min1</th>\n",
              "    </tr>\n",
              "  </thead>\n",
              "  <tbody>\n",
              "    <tr>\n",
              "      <th>0</th>\n",
              "      <td>40.75</td>\n",
              "      <td>178</td>\n",
              "      <td>1.54</td>\n",
              "      <td>29.70</td>\n",
              "      <td>10.0</td>\n",
              "      <td>63.3</td>\n",
              "    </tr>\n",
              "    <tr>\n",
              "      <th>1</th>\n",
              "      <td>39.55</td>\n",
              "      <td>153</td>\n",
              "      <td>1.14</td>\n",
              "      <td>29.83</td>\n",
              "      <td>9.9</td>\n",
              "      <td>54.7</td>\n",
              "    </tr>\n",
              "    <tr>\n",
              "      <th>2</th>\n",
              "      <td>38.90</td>\n",
              "      <td>135</td>\n",
              "      <td>1.46</td>\n",
              "      <td>29.73</td>\n",
              "      <td>9.2</td>\n",
              "      <td>65.2</td>\n",
              "    </tr>\n",
              "    <tr>\n",
              "      <th>3</th>\n",
              "      <td>39.72</td>\n",
              "      <td>137</td>\n",
              "      <td>1.01</td>\n",
              "      <td>29.85</td>\n",
              "      <td>10.1</td>\n",
              "      <td>67.0</td>\n",
              "    </tr>\n",
              "    <tr>\n",
              "      <th>4</th>\n",
              "      <td>39.65</td>\n",
              "      <td>152</td>\n",
              "      <td>1.55</td>\n",
              "      <td>30.19</td>\n",
              "      <td>9.7</td>\n",
              "      <td>60.9</td>\n",
              "    </tr>\n",
              "  </tbody>\n",
              "</table>\n",
              "</div>"
            ],
            "text/plain": [
              "   EndTCORE  Heart_rate_bpm  Sweat_rate_Lh1  WBGT_C  Speed_kmh1  \\\n",
              "0     40.75             178            1.54   29.70        10.0   \n",
              "1     39.55             153            1.14   29.83         9.9   \n",
              "2     38.90             135            1.46   29.73         9.2   \n",
              "3     39.72             137            1.01   29.85        10.1   \n",
              "4     39.65             152            1.55   30.19         9.7   \n",
              "\n",
              "   VO2MAX_mLkg1min1  \n",
              "0              63.3  \n",
              "1              54.7  \n",
              "2              65.2  \n",
              "3              67.0  \n",
              "4              60.9  "
            ]
          },
          "execution_count": 20,
          "metadata": {},
          "output_type": "execute_result"
        }
      ],
      "source": [
        "dados_modelo_3.head()"
      ]
    },
    {
      "cell_type": "code",
      "execution_count": 21,
      "metadata": {
        "colab": {
          "base_uri": "https://localhost:8080/"
        },
        "id": "LkXykFaHFZ9t",
        "outputId": "52e9bc82-b0ad-4cec-8d20-39c9973453b6"
      },
      "outputs": [
        {
          "name": "stdout",
          "output_type": "stream",
          "text": [
            "<class 'pandas.core.frame.DataFrame'>\n",
            "RangeIndex: 75 entries, 0 to 74\n",
            "Data columns (total 6 columns):\n",
            " #   Column            Non-Null Count  Dtype  \n",
            "---  ------            --------------  -----  \n",
            " 0   EndTCORE          75 non-null     float64\n",
            " 1   Heart_rate_bpm    75 non-null     int64  \n",
            " 2   Sweat_rate_Lh1    75 non-null     float64\n",
            " 3   WBGT_C            75 non-null     float64\n",
            " 4   Speed_kmh1        75 non-null     float64\n",
            " 5   VO2MAX_mLkg1min1  75 non-null     float64\n",
            "dtypes: float64(5), int64(1)\n",
            "memory usage: 3.6 KB\n"
          ]
        }
      ],
      "source": [
        "dados_modelo_3.info()"
      ]
    },
    {
      "cell_type": "code",
      "execution_count": 22,
      "metadata": {
        "id": "0za6vHr3GOwm"
      },
      "outputs": [],
      "source": [
        "#Descomentar a linha abaixo para salvar o DataFrame em um arquivo CSV\n",
        "#dados_modelo_3.to_csv('dados_modelo_3.csv', index=False)"
      ]
    }
  ],
  "metadata": {
    "colab": {
      "provenance": []
    },
    "kernelspec": {
      "display_name": ".venv (3.12.3)",
      "language": "python",
      "name": "python3"
    },
    "language_info": {
      "codemirror_mode": {
        "name": "ipython",
        "version": 3
      },
      "file_extension": ".py",
      "mimetype": "text/x-python",
      "name": "python",
      "nbconvert_exporter": "python",
      "pygments_lexer": "ipython3",
      "version": "3.12.3"
    }
  },
  "nbformat": 4,
  "nbformat_minor": 0
}
