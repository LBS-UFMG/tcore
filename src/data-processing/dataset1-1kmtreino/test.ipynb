{
 "cells": [
  {
   "cell_type": "code",
   "execution_count": 2,
   "id": "696c051f",
   "metadata": {},
   "outputs": [],
   "source": [
    "import pandas as pd \n",
    "import seaborn as sns\n",
    "import matplotlib.pyplot as plt\n",
    "import numpy as np\n",
    "from sklearn.model_selection import train_test_split"
   ]
  },
  {
   "cell_type": "code",
   "execution_count": 26,
   "id": "ce990388",
   "metadata": {},
   "outputs": [],
   "source": [
    "data = pd.read_csv('/home/usuario-leticia/Desktop/Samuel/leticiaag/tcore/data/processed-data/raw-data1-1km.csv')"
   ]
  },
  {
   "cell_type": "code",
   "execution_count": 27,
   "id": "c4af9db2",
   "metadata": {},
   "outputs": [],
   "source": [
    "data = data.drop(columns=['respons_examiner', 'participant_number'])"
   ]
  },
  {
   "cell_type": "code",
   "execution_count": 28,
   "id": "70de06cd",
   "metadata": {},
   "outputs": [],
   "source": [
    "X = data.drop('core_temp', axis=1)\n",
    "y = data['core_temp']"
   ]
  },
  {
   "cell_type": "code",
   "execution_count": 29,
   "id": "bf0791be",
   "metadata": {},
   "outputs": [],
   "source": [
    "X_train, X_test, y_train, y_test = train_test_split(X, y, test_size=0.2, random_state=42)"
   ]
  },
  {
   "cell_type": "code",
   "execution_count": 30,
   "id": "646c90a4",
   "metadata": {},
   "outputs": [
    {
     "name": "stdout",
     "output_type": "stream",
     "text": [
      "(600, 13)\n",
      "(600,)\n",
      "(150, 13)\n",
      "(150,)\n"
     ]
    }
   ],
   "source": [
    "print(X_train.shape)\n",
    "print(y_train.shape)\n",
    "print(X_test.shape)\n",
    "print(y_test.shape)"
   ]
  },
  {
   "cell_type": "code",
   "execution_count": 31,
   "id": "e2d47cc9",
   "metadata": {},
   "outputs": [
    {
     "data": {
      "text/plain": [
       "Index(['trial_number', 'sex', 'age', 'vo2máx', 'kilometer', 'skin_temp',\n",
       "       'heart_rate', 'speed', 'wbgt', 'dry_temp', 'wet_temp',\n",
       "       'relative_humidity', 'umidade_absoluta'],\n",
       "      dtype='object')"
      ]
     },
     "execution_count": 31,
     "metadata": {},
     "output_type": "execute_result"
    }
   ],
   "source": [
    "X_train.columns"
   ]
  },
  {
   "cell_type": "code",
   "execution_count": 32,
   "id": "bf1e237a",
   "metadata": {},
   "outputs": [],
   "source": [
    "X_train.to_csv('/home/usuario-leticia/Desktop/Samuel/leticiaag/tcore/data/train-data/X_train.csv', index=False)\n",
    "y_train.to_csv('/home/usuario-leticia/Desktop/Samuel/leticiaag/tcore/data/train-data/y_train.csv', index=False)\n",
    "X_test.to_csv('/home/usuario-leticia/Desktop/Samuel/leticiaag/tcore/data/test-data/X_test.csv', index=False)\n",
    "y_test.to_csv('/home/usuario-leticia/Desktop/Samuel/leticiaag/tcore/data/test-data/y_test.csv', index=False)    "
   ]
  },
  {
   "cell_type": "code",
   "execution_count": null,
   "id": "5d51e923",
   "metadata": {},
   "outputs": [],
   "source": []
  }
 ],
 "metadata": {
  "kernelspec": {
   "display_name": ".venv (3.12.3)",
   "language": "python",
   "name": "python3"
  },
  "language_info": {
   "codemirror_mode": {
    "name": "ipython",
    "version": 3
   },
   "file_extension": ".py",
   "mimetype": "text/x-python",
   "name": "python",
   "nbconvert_exporter": "python",
   "pygments_lexer": "ipython3",
   "version": "3.12.3"
  }
 },
 "nbformat": 4,
 "nbformat_minor": 5
}
